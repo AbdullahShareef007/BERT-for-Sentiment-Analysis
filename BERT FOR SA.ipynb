{
  "nbformat": 4,
  "nbformat_minor": 0,
  "metadata": {
    "colab": {
      "provenance": [],
      "gpuType": "T4",
      "authorship_tag": "ABX9TyNK0gZthulKqe48I2XMNQsN",
      "include_colab_link": true
    },
    "kernelspec": {
      "name": "python3",
      "display_name": "Python 3"
    },
    "language_info": {
      "name": "python"
    },
    "accelerator": "GPU"
  },
  "cells": [
    {
      "cell_type": "markdown",
      "metadata": {
        "id": "view-in-github",
        "colab_type": "text"
      },
      "source": [
        "<a href=\"https://colab.research.google.com/github/AbdullahShareef007/BERT-for-Sentiment-Analysis/blob/main/BERT%20FOR%20SA.ipynb\" target=\"_parent\"><img src=\"https://colab.research.google.com/assets/colab-badge.svg\" alt=\"Open In Colab\"/></a>"
      ]
    },
    {
      "cell_type": "markdown",
      "source": [
        "\n",
        "Libraries import:\n",
        "\n",
        "- TensorFlow is building and training machine learning models.\n",
        "\n",
        "- Transformers library from Hugging Face is for pre-trained BERT models.\n",
        "\n",
        "- InputExample is used to deal with input examples for the model.\n",
        "\n",
        "- Pandas is used for analyzing and working with data.\n",
        "\n",
        "- The dataset is split into training and validation sets for model training and evaluation.\n",
        "\n",
        "- F1 score for evaluating model performance.\n",
        "\n",
        "- Class weights are used to solve the class imbalance dataset.\n",
        "\n",
        "- NumPy is used for numerical computations."
      ],
      "metadata": {
        "id": "gPrBcCiUuIhO"
      }
    },
    {
      "cell_type": "code",
      "source": [
        "import tensorflow as tf\n",
        "from transformers import BertTokenizer, TFBertForSequenceClassification\n",
        "from transformers import InputExample\n",
        "import pandas as pd\n",
        "from sklearn.model_selection import train_test_split\n",
        "from sklearn.metrics import f1_score\n",
        "from sklearn.utils import class_weight\n",
        "import numpy as np"
      ],
      "metadata": {
        "id": "lVauR6I4uHlF"
      },
      "execution_count": 16,
      "outputs": []
    },
    {
      "cell_type": "markdown",
      "source": [
        "\n",
        "\n",
        "1.   Specifies the file path for the training data in the TSV format, which was uploaded in the Colab using the upload method. Then, it is saved in Colab`s **'/content/'**  \n",
        "\n",
        "2.   Reads the data from the specified file path into a Pandas DataFrame. Since the file is tsv, it means that the featrues are seperated by commas.\n",
        "\n",
        "\n",
        "3.   Splits the dataset into training and validation sets for model training and evaluation.\n",
        "\n",
        "4.  Creates an instance of the pre-trained BERT tokenizer  for  German.\n",
        "\n",
        "\n",
        "\n",
        "\n"
      ],
      "metadata": {
        "id": "_yjeXKETwFRD"
      }
    },
    {
      "cell_type": "code",
      "source": [
        "file_path = '/content/train.tsv'\n",
        "data = pd.read_csv(file_path, sep='\\t')\n",
        "train_data, val_data = train_test_split(data, test_size=0.2, random_state=42)\n",
        "\n",
        "tokenizer = BertTokenizer.from_pretrained(\"bert-base-german-cased\")"
      ],
      "metadata": {
        "id": "gqhlMlcirV3L"
      },
      "execution_count": 17,
      "outputs": []
    },
    {
      "cell_type": "markdown",
      "source": [
        "\n",
        "\n",
        "1. Defines a function to convert a list of examples to a TensorFlow dataset for input to BERT.\n",
        "\n",
        "2. Creates empty lists to save BERT`s input data, including input IDs, attention masks, token type IDs, and labels parameters like max length, padding, and truncation.\n",
        "\n",
        "3. Iterates through each example in the input list.\n",
        "4. Uses the BERT`s tokenizer to convert the text of each example into BERT format.\n",
        "\n",
        "\n",
        "5. Appends the encoded input values (input IDs, attention masks, token type IDs) to their respective lists\n",
        "\n",
        "\n",
        "6.  Appends the label of each example to the labels list.\n",
        "\n",
        "\n",
        "7.   Converts the lists of input data to TensorFlow tensors.\n",
        "8.   Performs one-hot encoding on the labels to prepare them for model training.\n",
        "\n",
        "\n",
        "9.   Returns a tuple containing the input data tensors and the one-hot encoded labels.\n",
        "\n",
        "\n",
        "\n",
        "\n",
        "\n"
      ],
      "metadata": {
        "id": "qtAJptl6xljp"
      }
    },
    {
      "cell_type": "code",
      "source": [
        "\n",
        "\n",
        "def convert_examples_to_tf_dataset(examples, tokenizer, max_length=128):\n",
        "    input_ids = []\n",
        "    attention_masks = []\n",
        "    token_type_ids = []\n",
        "    labels = []\n",
        "\n",
        "    for e in examples:\n",
        "        input_dict = tokenizer.encode_plus(\n",
        "            e.text_a,\n",
        "            add_special_tokens=True,\n",
        "            max_length=max_length,\n",
        "            return_token_type_ids=True,\n",
        "            return_attention_mask=True,\n",
        "            padding='max_length',\n",
        "            truncation=True\n",
        "        )\n",
        "\n",
        "        input_ids.append(input_dict[\"input_ids\"])\n",
        "        attention_masks.append(input_dict[\"attention_mask\"])\n",
        "        token_type_ids.append(input_dict[\"token_type_ids\"])\n",
        "        labels.append(e.label)\n",
        "\n",
        "    return (\n",
        "        tf.convert_to_tensor(input_ids),\n",
        "        tf.convert_to_tensor(attention_masks),\n",
        "        tf.convert_to_tensor(token_type_ids)\n",
        "    ), tf.one_hot(labels, depth=3)\n"
      ],
      "metadata": {
        "id": "bNdNs7k6rgqi"
      },
      "execution_count": 18,
      "outputs": []
    },
    {
      "cell_type": "markdown",
      "source": [
        "\n",
        "\n",
        "1.   Computes class weights using scikit-learn's class_weight module,considering the balanced class weights.\n",
        "2.   Converts the class weights array into a dictionary where the keys are class indices (0, 1, 2) and values are the corresponding class weights.\n",
        "\n",
        "1.   Uses the convert_examples_to_tf_dataset function to convert the training data to TensorFlow dataset format. It applies this conversion to each example in the training data, using the BERT tokenizer.\n",
        "2.   Similar to the training data, converts the validation data to TensorFlow dataset format using the same function and BERT tokenizer.\n",
        "\n",
        "Note: Ensure that the InputExample class has been appropriately defined, and the text_a and label attributes are present in the DataFrame (train_data and val_data).\n",
        "\n",
        "\n",
        "\n"
      ],
      "metadata": {
        "id": "cZXagStdzPOa"
      }
    },
    {
      "cell_type": "code",
      "source": [
        "class_weights = class_weight.compute_class_weight('balanced', classes=np.unique(train_data['sentiment']), y=train_data['sentiment'])\n",
        "class_weights_dict = {i: class_weights[i] for i in range(3)}\n",
        "\n",
        "\n",
        "\n",
        "\n",
        "train_input, train_labels = convert_examples_to_tf_dataset(\n",
        "    list(train_data.apply(lambda x: InputExample(guid=None, text_a=x['text'], text_b=None, label=x['sentiment']), axis=1)),\n",
        "    tokenizer\n",
        ")\n",
        "val_input, val_labels = convert_examples_to_tf_dataset(\n",
        "    list(val_data.apply(lambda x: InputExample(guid=None, text_a=x['text'], text_b=None, label=x['sentiment']), axis=1)),\n",
        "    tokenizer\n",
        ")\n",
        "\n"
      ],
      "metadata": {
        "id": "tzlc6HdmrkHJ"
      },
      "execution_count": 19,
      "outputs": []
    },
    {
      "cell_type": "markdown",
      "source": [
        "\n",
        "\n",
        "1.   Initializes a BERT model for sequence classification using the German-cased version with three output labels.\n",
        "2.   Uses the Adam optimizer with a specific learning rate (1e-5) and epsilon value (1e-08).\n",
        "\n",
        "\n",
        "3.    Configures the model for training. The loss function is set to categorical crossentropy since the task involves multiple classes. The metric for evaluation is accuracy.\n",
        "\n",
        "\n"
      ],
      "metadata": {
        "id": "PyhT51urz8ZK"
      }
    },
    {
      "cell_type": "code",
      "source": [
        "\n",
        "model = TFBertForSequenceClassification.from_pretrained(\"bert-base-german-cased\", num_labels=3)\n",
        "optimizer = tf.keras.optimizers.Adam(learning_rate=1e-5, epsilon=1e-08)\n",
        "model.compile(optimizer=optimizer, loss=tf.keras.losses.CategoricalCrossentropy(from_logits=True), metrics=['accuracy'])\n",
        "\n",
        "\n"
      ],
      "metadata": {
        "colab": {
          "base_uri": "https://localhost:8080/"
        },
        "id": "vbRs6AG_rm2j",
        "outputId": "9367a432-4868-4d01-e93c-eba059929abb"
      },
      "execution_count": 29,
      "outputs": [
        {
          "output_type": "stream",
          "name": "stderr",
          "text": [
            "All PyTorch model weights were used when initializing TFBertForSequenceClassification.\n",
            "\n",
            "Some weights or buffers of the TF 2.0 model TFBertForSequenceClassification were not initialized from the PyTorch model and are newly initialized: ['classifier.weight', 'classifier.bias']\n",
            "You should probably TRAIN this model on a down-stream task to be able to use it for predictions and inference.\n"
          ]
        }
      ]
    },
    {
      "cell_type": "code",
      "source": [
        "import matplotlib.pyplot as plt\n",
        "import seaborn as sns\n",
        "from wordcloud import WordCloud\n",
        "import numpy as np\n",
        "\n",
        "plt.figure(figsize=(8, 6))\n",
        "sns.countplot(x='sentiment', data=train_data, palette='viridis')\n",
        "plt.title('Distribution of Sentiments - Training Data')\n",
        "plt.xlabel('Sentiment Class')\n",
        "plt.ylabel('Count')\n",
        "plt.show()\n"
      ],
      "metadata": {
        "colab": {
          "base_uri": "https://localhost:8080/",
          "height": 651
        },
        "id": "jNStqH8t5-c2",
        "outputId": "e568b6f2-3720-4765-9ecd-14d897a5f122"
      },
      "execution_count": 31,
      "outputs": [
        {
          "output_type": "stream",
          "name": "stderr",
          "text": [
            "<ipython-input-31-fbea5d6e868f>:7: FutureWarning: \n",
            "\n",
            "Passing `palette` without assigning `hue` is deprecated and will be removed in v0.14.0. Assign the `x` variable to `hue` and set `legend=False` for the same effect.\n",
            "\n",
            "  sns.countplot(x='sentiment', data=train_data, palette='viridis')\n"
          ]
        },
        {
          "output_type": "display_data",
          "data": {
            "text/plain": [
              "<Figure size 800x600 with 1 Axes>"
            ],
            "image/png": "[encoded data removed]"
          },
          "metadata": {}
        }
      ]
    },
    {
      "cell_type": "code",
      "source": [
        "import random\n",
        "\n",
        "\n",
        "num_examples_to_display = 5\n",
        "\n",
        "\n",
        "random_examples = train_data.sample(num_examples_to_display, random_state=42)\n",
        "\n",
        "\n",
        "for index, row in random_examples.iterrows():\n",
        "    print(f\"Sentiment: {row['sentiment']}\")\n",
        "    print(f\"Text: {row['text']}\\n\")\n"
      ],
      "metadata": {
        "colab": {
          "base_uri": "https://localhost:8080/"
        },
        "id": "p8mBVxXh64Ae",
        "outputId": "d22cb4b3-8e06-4f31-bc9b-bbb87d24c204"
      },
      "execution_count": 34,
      "outputs": [
        {
          "output_type": "stream",
          "name": "stdout",
          "text": [
            "Sentiment: 2\n",
            "Text: https://t.co/DxJu9TyvcM Der Untergang dieser Republik ist so gewiss wie das Amen in der Kirche,es herrscht eine warlose Selbstbedienung dieser Staatsvertreter.Bürger mit ihrem Kleingeld werden noch ärmer gemacht.Eine Regierung des Schreckens und der Unverhältnismäßigkeit.\n",
            "\n",
            "Sentiment: 1\n",
            "Text: WTF! Mehrere Monate Haft für berechtigten Protest, der niemand physisch schadet. Die Richter*innen hätten auch anders entscheiden können. Die #Klimakatastrophe nehmen die nicht wirklich ernst.\\n\\n#LetzteGeneration https://t.co/IzKfhpHbvn\n",
            "\n",
            "Sentiment: 0\n",
            "Text: Menschenrechtsexperte &amp; auch ein ehemaliger Professor von mir - Manfred Nowak - drängt auf „Kompromisse“ &amp; „Friedensverhandlungen“ bei gleichzeitigem Beistand mit der #ukraine! Eine vernünftige Stimme inmitten voller Unvernunft.  https://t.co/6i5fXrmuoH\n",
            "\n",
            "Sentiment: 1\n",
            "Text: Die Erneuerbaren müssen in #Europa deutlich zulegen. Welche Hürden stehen ihrem Ausbau bislang im Weg? Wie lassen sich diese beseitigen? Dazu schreibt Dominik Seebach in seiner Kolumne in der aktuellen #ecoatwork: https://t.co/bdS5NqLtTJ #Infrastruktur #Energiewende #Klimaschutz\n",
            "\n",
            "Sentiment: 0\n",
            "Text: Also ganz unabhängig davon, ob wir Leo‘s liefern, oder eben nicht… \\nEs ist überhaupt nicht erklärbar, warum die Inst bzw. Ertüchtigung der „vorhandenen“ #Kampfpanzer nicht bereits im letzten Sommer an die Industrie in Auftrag gegeben wurde! @larsklingbeil #AnneWill\n",
            "\n"
          ]
        }
      ]
    },
    {
      "cell_type": "code",
      "source": [],
      "metadata": {
        "id": "d3PmWxi16TNd"
      },
      "execution_count": 33,
      "outputs": []
    },
    {
      "cell_type": "markdown",
      "source": [
        "\n",
        "  **Fits the  model on the training data. The hyperparameters are:**\n",
        "\n",
        "1. train_input and train_labels: Training data and corresponding labels.\n",
        "\n",
        "2. epochs=3: The number of times the model will iterate over the entire training dataset.\n",
        "\n",
        "3.   batch_size=32: The number of data points used in each iteration\n",
        "\n",
        "4.   validation_data=(val_input, val_labels): Validation data to evaluate the model's performance on unseen data during training.\n",
        "\n",
        "5.   class_weight=class_weights_dict: Provides weights for different classes to handle class imbalance.\n",
        "\n",
        "\n",
        "\n",
        "\n",
        "\n"
      ],
      "metadata": {
        "id": "_ZwbZxO90W3b"
      }
    },
    {
      "cell_type": "code",
      "source": [
        "model.fit(train_input, train_labels, epochs=3, batch_size=32, validation_data=(val_input, val_labels), class_weight=class_weights_dict)"
      ],
      "metadata": {
        "colab": {
          "base_uri": "https://localhost:8080/"
        },
        "id": "5dNyHfPXrp76",
        "outputId": "7bc6dd85-75ce-4802-f2df-1d177ada3c23"
      },
      "execution_count": 21,
      "outputs": [
        {
          "output_type": "stream",
          "name": "stdout",
          "text": [
            "Epoch 1/3\n",
            "68/68 [==============================] - 98s 860ms/step - loss: 1.0682 - accuracy: 0.3931 - val_loss: 1.0065 - val_accuracy: 0.4852\n",
            "Epoch 2/3\n",
            "68/68 [==============================] - 58s 853ms/step - loss: 0.9146 - accuracy: 0.6079 - val_loss: 0.8261 - val_accuracy: 0.6574\n",
            "Epoch 3/3\n",
            "68/68 [==============================] - 60s 881ms/step - loss: 0.7350 - accuracy: 0.7097 - val_loss: 0.7692 - val_accuracy: 0.6815\n"
          ]
        },
        {
          "output_type": "execute_result",
          "data": {
            "text/plain": [
              "<keras.src.callbacks.History at 0x79387cd3fa30>"
            ]
          },
          "metadata": {},
          "execution_count": 21
        }
      ]
    },
    {
      "cell_type": "markdown",
      "source": [
        "\n",
        "\n",
        "1.   Uses the trained model to make predictions on the validation data.\n",
        "2.    Input data for validation\n",
        "\n",
        "\n",
        "1.   Predicted probabilities for each class.\n",
        "2.    Logits obtained from the predicted probabilities.\n",
        "\n",
        "\n",
        "1.   Predicted class labels by choosing the one with the highest probability for each example.\n",
        "2.    Evaluates the model's performance using the F1 score, a metric that considers both precision and recall.\n",
        "\n",
        "\n",
        "\n",
        "\n",
        "\n"
      ],
      "metadata": {
        "id": "Fd3kVqi-1Ztb"
      }
    },
    {
      "cell_type": "code",
      "source": [
        "val_pred_probs = model.predict(val_input)\n",
        "val_logits = val_pred_probs.logits\n",
        "val_preds = tf.argmax(val_logits, axis=1)\n",
        "\n",
        "f1 = f1_score(tf.argmax(val_labels, axis=1), val_preds, average='macro')\n",
        "print(f'Macro F1 Score: {f1}')\n"
      ],
      "metadata": {
        "colab": {
          "base_uri": "https://localhost:8080/"
        },
        "id": "TMCWuDYxrsxi",
        "outputId": "beb35a9f-4b04-4fde-a689-a80b05884f36"
      },
      "execution_count": 22,
      "outputs": [
        {
          "output_type": "stream",
          "name": "stdout",
          "text": [
            "17/17 [==============================] - 9s 260ms/step\n",
            "Macro F1 Score: 0.6364241035557283\n"
          ]
        }
      ]
    },
    {
      "cell_type": "markdown",
      "source": [
        "\n",
        "\n",
        "1.    saves the model for future use.\n",
        "2.   Saves the model's architecture, weights, and optimizer state.\n",
        "\n",
        "\n",
        "1.   Saves the tokenizer configuration and vocabulary.\n",
        "2.   Combines both model and tokenizer saving into a single call for compatibility.\n",
        "\n",
        "\n",
        "\n"
      ],
      "metadata": {
        "id": "bZSEdlh_1zSs"
      }
    },
    {
      "cell_type": "code",
      "source": [
        "\n",
        "model.save('/content/sentiment_analysis_model')\n",
        "tokenizer.save_pretrained('/content/sentiment_analysis_model')\n",
        "model.save_pretrained('/content/sentiment_analysis_model')\n",
        "\n"
      ],
      "metadata": {
        "id": "Ci2p5m4tr0E9"
      },
      "execution_count": 23,
      "outputs": []
    },
    {
      "cell_type": "markdown",
      "source": [
        "**FOR TESTING THE MODEL ON UNSEEN DATA**"
      ],
      "metadata": {
        "id": "AfrENbp0rTki"
      }
    },
    {
      "cell_type": "code",
      "source": [
        "#loading the model\n",
        "model = TFBertForSequenceClassification.from_pretrained(\"/content/sentiment_analysis_model\")\n",
        "tokenizer = BertTokenizer.from_pretrained(\"/content/sentiment_analysis_model\")\n",
        "\n",
        "#opening the test data from colab\n",
        "file_path = '/content/holdback.tsv'\n",
        "\n",
        "# reading the data\n",
        "test_data = pd.read_csv(file_path, sep='\\t')\n",
        "\n",
        "def convert_examples_to_tf_dataset(examples, tokenizer, max_length=128):\n",
        "    input_ids = []\n",
        "    attention_masks = []\n",
        "    token_type_ids = []\n",
        "\n",
        "    for e in examples:\n",
        "        input_dict = tokenizer.encode_plus(\n",
        "            e.text_a,\n",
        "            add_special_tokens=True,\n",
        "            max_length=max_length,\n",
        "            return_token_type_ids=True,\n",
        "            return_attention_mask=True,\n",
        "            padding='max_length',\n",
        "            truncation=True\n",
        "        )\n",
        "\n",
        "        input_ids.append(input_dict[\"input_ids\"])\n",
        "        attention_masks.append(input_dict[\"attention_mask\"])\n",
        "        token_type_ids.append(input_dict[\"token_type_ids\"])\n",
        "\n",
        "    return (\n",
        "        tf.convert_to_tensor(input_ids),\n",
        "        tf.convert_to_tensor(attention_masks),\n",
        "        tf.convert_to_tensor(token_type_ids),\n",
        "    )\n",
        "\n",
        "# Converting them to tf dataset\n",
        "test_input = convert_examples_to_tf_dataset(\n",
        "    list(test_data.apply(lambda x: InputExample(guid=None, text_a=x['text'], text_b=None, label=None), axis=1)),\n",
        "    tokenizer\n",
        ")\n",
        "\n",
        "# Predicttion\n",
        "test_pred_probs = model.predict(test_input)\n",
        "test_logits = test_pred_probs.logits\n",
        "test_preds = tf.argmax(test_logits, axis=1)\n",
        "\n",
        "# giving predicted labels\n",
        "test_data['sentiment'] = test_preds.numpy()\n",
        "\n",
        "# Saving the results\n",
        "output_file_path = '/content/test_results.tsv'\n",
        "test_data[['id', 'sentiment']].to_csv(output_file_path, sep='\\t', index=False)\n",
        "\n",
        "# giving the path to the saved file\n",
        "print(f'Results saved to {output_file_path}')"
      ],
      "metadata": {
        "colab": {
          "base_uri": "https://localhost:8080/"
        },
        "id": "YM2mlPsIctMB",
        "outputId": "9309bc53-61f3-454b-eb90-487ce871489c"
      },
      "execution_count": 24,
      "outputs": [
        {
          "output_type": "stream",
          "name": "stderr",
          "text": [
            "Some layers from the model checkpoint at /content/sentiment_analysis_model were not used when initializing TFBertForSequenceClassification: ['dropout_455']\n",
            "- This IS expected if you are initializing TFBertForSequenceClassification from the checkpoint of a model trained on another task or with another architecture (e.g. initializing a BertForSequenceClassification model from a BertForPreTraining model).\n",
            "- This IS NOT expected if you are initializing TFBertForSequenceClassification from the checkpoint of a model that you expect to be exactly identical (initializing a BertForSequenceClassification model from a BertForSequenceClassification model).\n",
            "All the layers of TFBertForSequenceClassification were initialized from the model checkpoint at /content/sentiment_analysis_model.\n",
            "If your task is similar to the task the model of the checkpoint was trained on, you can already use TFBertForSequenceClassification for predictions without further training.\n"
          ]
        },
        {
          "output_type": "stream",
          "name": "stdout",
          "text": [
            "10/10 [==============================] - 5s 239ms/step\n",
            "Results saved to /content/test_results.tsv\n"
          ]
        }
      ]
    },
    {
      "cell_type": "code",
      "source": [],
      "metadata": {
        "id": "Njv-lY6fhmTV"
      },
      "execution_count": 25,
      "outputs": []
    },
    {
      "cell_type": "code",
      "source": [],
      "metadata": {
        "id": "MSiuj3rk5AQT"
      },
      "execution_count": 28,
      "outputs": []
    },
    {
      "cell_type": "code",
      "source": [],
      "metadata": {
        "id": "v2jfICmB5Th0"
      },
      "execution_count": null,
      "outputs": []
    }
  ]
}